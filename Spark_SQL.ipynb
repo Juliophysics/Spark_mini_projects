{
 "cells": [
  {
   "cell_type": "code",
   "execution_count": 1,
   "metadata": {},
   "outputs": [],
   "source": [
    "from pyspark.sql import SparkSession"
   ]
  },
  {
   "cell_type": "code",
   "execution_count": 2,
   "metadata": {},
   "outputs": [],
   "source": [
    "spark = SparkSession.builder.appName('First_Project').getOrCreate()"
   ]
  },
  {
   "cell_type": "code",
   "execution_count": 3,
   "metadata": {},
   "outputs": [],
   "source": [
    "df = spark.read.csv('data_clean_UFC.csv', inferSchema = True, header = True)"
   ]
  },
  {
   "cell_type": "markdown",
   "metadata": {},
   "source": [
    "## Looking for a particular fighter into a big bunch of data"
   ]
  },
  {
   "cell_type": "code",
   "execution_count": 4,
   "metadata": {},
   "outputs": [
    {
     "name": "stdout",
     "output_type": "stream",
     "text": [
      "+------+--------------+--------------------+\n",
      "|Winner|           Red|                Blue|\n",
      "+------+--------------+--------------------+\n",
      "|   Red|     Jon Jones|       Anthony Smith|\n",
      "|   Red|     Jon Jones|Alexander Gustafsson|\n",
      "|  Draw|Daniel Cormier|           Jon Jones|\n",
      "|   Red|     Jon Jones|  Ovince Saint Preux|\n",
      "|   Red|     Jon Jones|      Daniel Cormier|\n",
      "|   Red|     Jon Jones|     Glover Teixeira|\n",
      "|   Red|     Jon Jones|Alexander Gustafsson|\n",
      "|   Red|     Jon Jones|        Chael Sonnen|\n",
      "|   Red|     Jon Jones|       Vitor Belfort|\n",
      "|   Red|     Jon Jones|        Rashad Evans|\n",
      "|   Red|     Jon Jones|       Lyoto Machida|\n",
      "|   Red|     Jon Jones|     Rampage Jackson|\n",
      "|  Blue|  Mauricio Rua|           Jon Jones|\n",
      "|   Red|     Jon Jones|          Ryan Bader|\n",
      "|   Red|     Jon Jones|Vladimir Matyushenko|\n",
      "|  Blue|  Brandon Vera|           Jon Jones|\n",
      "|   Red|   Matt Hamill|           Jon Jones|\n",
      "|   Red|     Jon Jones|        Jake O'Brien|\n",
      "|   Red|     Jon Jones|      Stephan Bonnar|\n",
      "|   Red|     Jon Jones|        Andre Gusmao|\n",
      "+------+--------------+--------------------+\n",
      "\n"
     ]
    }
   ],
   "source": [
    "df.filter((df['Red'] == 'Jon Jones') | (df['Blue'] == 'Jon Jones')).select(['Winner','Red','Blue']).show()"
   ]
  },
  {
   "cell_type": "markdown",
   "metadata": {},
   "source": [
    "## Query (SQL code) to do the same thing"
   ]
  },
  {
   "cell_type": "code",
   "execution_count": 5,
   "metadata": {},
   "outputs": [],
   "source": [
    "df.createOrReplaceTempView('julio_query')\n",
    "query = spark.sql(\"SELECT Winner,Red,Blue FROM julio_query WHERE Red = 'Jon Jones' OR Blue = 'Jon Jones' \")"
   ]
  },
  {
   "cell_type": "code",
   "execution_count": 6,
   "metadata": {},
   "outputs": [
    {
     "name": "stdout",
     "output_type": "stream",
     "text": [
      "+------+--------------+--------------------+\n",
      "|Winner|           Red|                Blue|\n",
      "+------+--------------+--------------------+\n",
      "|   Red|     Jon Jones|       Anthony Smith|\n",
      "|   Red|     Jon Jones|Alexander Gustafsson|\n",
      "|  Draw|Daniel Cormier|           Jon Jones|\n",
      "|   Red|     Jon Jones|  Ovince Saint Preux|\n",
      "|   Red|     Jon Jones|      Daniel Cormier|\n",
      "|   Red|     Jon Jones|     Glover Teixeira|\n",
      "|   Red|     Jon Jones|Alexander Gustafsson|\n",
      "|   Red|     Jon Jones|        Chael Sonnen|\n",
      "|   Red|     Jon Jones|       Vitor Belfort|\n",
      "|   Red|     Jon Jones|        Rashad Evans|\n",
      "|   Red|     Jon Jones|       Lyoto Machida|\n",
      "|   Red|     Jon Jones|     Rampage Jackson|\n",
      "|  Blue|  Mauricio Rua|           Jon Jones|\n",
      "|   Red|     Jon Jones|          Ryan Bader|\n",
      "|   Red|     Jon Jones|Vladimir Matyushenko|\n",
      "|  Blue|  Brandon Vera|           Jon Jones|\n",
      "|   Red|   Matt Hamill|           Jon Jones|\n",
      "|   Red|     Jon Jones|        Jake O'Brien|\n",
      "|   Red|     Jon Jones|      Stephan Bonnar|\n",
      "|   Red|     Jon Jones|        Andre Gusmao|\n",
      "+------+--------------+--------------------+\n",
      "\n"
     ]
    }
   ],
   "source": [
    "query.show()"
   ]
  },
  {
   "cell_type": "markdown",
   "metadata": {},
   "source": [
    "## Query to know the tallest fighter in the UFC"
   ]
  },
  {
   "cell_type": "code",
   "execution_count": 7,
   "metadata": {},
   "outputs": [],
   "source": [
    "query2 = spark.sql(\"SELECT Red, Blue, B_Height_cms, R_Height_cms FROM julio_query WHERE (B_Height_cms = (SELECT MAX(B_Height_cms) FROM (julio_query))) OR (R_Height_cms = (SELECT MAX(B_Height_cms) FROM (julio_query)))  \")"
   ]
  },
  {
   "cell_type": "code",
   "execution_count": 8,
   "metadata": {},
   "outputs": [
    {
     "name": "stdout",
     "output_type": "stream",
     "text": [
      "+----------------+--------------------+------------+------------+\n",
      "|             Red|                Blue|B_Height_cms|R_Height_cms|\n",
      "+----------------+--------------------+------------+------------+\n",
      "|   Stefan Struve|Marcos Rogerio de...|      185.42|      210.82|\n",
      "|   Marcin Tybura|       Stefan Struve|      210.82|       190.5|\n",
      "|   Stefan Struve|     Andrei Arlovski|       190.5|      210.82|\n",
      "|Alexander Volkov|       Stefan Struve|      210.82|      200.66|\n",
      "|   Stefan Struve|  Daniel Omielanczuk|      182.88|      210.82|\n",
      "|   Antonio Silva|       Stefan Struve|      210.82|      193.04|\n",
      "|   Stefan Struve|       Jared Rosholt|      187.96|      210.82|\n",
      "|   Stefan Struve|  Minotauro Nogueira|       190.5|      210.82|\n",
      "|Alistair Overeem|       Stefan Struve|      210.82|      193.04|\n",
      "|   Stefan Struve|           Mark Hunt|       177.8|      210.82|\n",
      "|   Stefan Struve|        Stipe Miocic|      193.04|      210.82|\n",
      "|   Stefan Struve|       Lavar Johnson|      193.04|      210.82|\n",
      "|   Stefan Struve|         Dave Herman|      193.04|      210.82|\n",
      "|       Pat Barry|       Stefan Struve|      210.82|      180.34|\n",
      "|   Stefan Struve|       Travis Browne|      198.12|      210.82|\n",
      "|   Stefan Struve|       Sean McCorkle|      200.66|      210.82|\n",
      "|   Stefan Struve| Christian Morecraft|      198.12|      210.82|\n",
      "|      Roy Nelson|       Stefan Struve|      210.82|      182.88|\n",
      "|   Stefan Struve|      Paul Buentello|      187.96|      210.82|\n",
      "|   Stefan Struve|       Chase Gormley|       190.5|      210.82|\n",
      "+----------------+--------------------+------------+------------+\n",
      "only showing top 20 rows\n",
      "\n"
     ]
    }
   ],
   "source": [
    "query2.show()"
   ]
  },
  {
   "cell_type": "code",
   "execution_count": 9,
   "metadata": {},
   "outputs": [],
   "source": [
    "query2 = spark.sql(\"SELECT Red, Blue, B_Height_cms, R_Height_cms FROM julio_query WHERE (B_Height_cms = (SELECT MAX(B_Height_cms) FROM (julio_query)))\")"
   ]
  },
  {
   "cell_type": "code",
   "execution_count": 10,
   "metadata": {},
   "outputs": [
    {
     "name": "stdout",
     "output_type": "stream",
     "text": [
      "+-----------------+-------------+------------+------------+\n",
      "|              Red|         Blue|B_Height_cms|R_Height_cms|\n",
      "+-----------------+-------------+------------+------------+\n",
      "|    Marcin Tybura|Stefan Struve|      210.82|       190.5|\n",
      "| Alexander Volkov|Stefan Struve|      210.82|      200.66|\n",
      "|    Antonio Silva|Stefan Struve|      210.82|      193.04|\n",
      "| Alistair Overeem|Stefan Struve|      210.82|      193.04|\n",
      "|        Pat Barry|Stefan Struve|      210.82|      180.34|\n",
      "|       Roy Nelson|Stefan Struve|      210.82|      182.88|\n",
      "|Junior Dos Santos|Stefan Struve|      210.82|      193.04|\n",
      "+-----------------+-------------+------------+------------+\n",
      "\n"
     ]
    }
   ],
   "source": [
    "query2.show()"
   ]
  },
  {
   "cell_type": "code",
   "execution_count": 11,
   "metadata": {},
   "outputs": [],
   "source": [
    "query3 = spark.sql(\"SELECT Red, Blue, R_Weight_lbs, B_Weight_lbs FROM julio_query WHERE (B_Weight_lbs = (SELECT MAX(B_Weight_lbs) FROM (julio_query))) OR (R_Weight_lbs = (SELECT MAX(R_Weight_lbs) FROM (julio_query)))  \")"
   ]
  },
  {
   "cell_type": "code",
   "execution_count": 12,
   "metadata": {},
   "outputs": [
    {
     "name": "stdout",
     "output_type": "stream",
     "text": [
      "+-------------+-------------------+------------+------------+\n",
      "|          Red|               Blue|R_Weight_lbs|B_Weight_lbs|\n",
      "+-------------+-------------------+------------+------------+\n",
      "|Andre Roberts|       Ron Waterman|       345.0|       280.0|\n",
      "|   Dan Bobish|     Brian Johnston|       345.0|       230.0|\n",
      "|Keith Hackney|Emmanuel Yarborough|       200.0|       770.0|\n",
      "+-------------+-------------------+------------+------------+\n",
      "\n"
     ]
    }
   ],
   "source": [
    "query3.show()"
   ]
  },
  {
   "cell_type": "code",
   "execution_count": 14,
   "metadata": {},
   "outputs": [],
   "source": [
    "query4 = spark.sql(\"SELECT MAX(B_Weight_lbs) FROM julio_query\")"
   ]
  },
  {
   "cell_type": "code",
   "execution_count": 15,
   "metadata": {},
   "outputs": [
    {
     "name": "stdout",
     "output_type": "stream",
     "text": [
      "+-----------------+\n",
      "|max(B_Weight_lbs)|\n",
      "+-----------------+\n",
      "|            770.0|\n",
      "+-----------------+\n",
      "\n"
     ]
    }
   ],
   "source": [
    "query4.show()"
   ]
  },
  {
   "cell_type": "code",
   "execution_count": 21,
   "metadata": {},
   "outputs": [],
   "source": [
    "query5 = spark.sql(\"SELECT MAX(B_Weight_lbs) FROM julio_query  WHERE B_Weight_lbs Not In (SELECT MAX(B_Weight_lbs) FROM julio_query)\")"
   ]
  },
  {
   "cell_type": "code",
   "execution_count": 22,
   "metadata": {},
   "outputs": [
    {
     "name": "stdout",
     "output_type": "stream",
     "text": [
      "+-----------------+\n",
      "|max(B_Weight_lbs)|\n",
      "+-----------------+\n",
      "|            430.0|\n",
      "+-----------------+\n",
      "\n"
     ]
    }
   ],
   "source": [
    "query5.show()"
   ]
  },
  {
   "cell_type": "code",
   "execution_count": 28,
   "metadata": {},
   "outputs": [],
   "source": [
    "query6 = spark.sql(\"SELECT B_Weight_lbs FROM julio_query WHERE B_Weight_lbs BETWEEN 380 AND 800 \")"
   ]
  },
  {
   "cell_type": "code",
   "execution_count": 29,
   "metadata": {},
   "outputs": [
    {
     "name": "stdout",
     "output_type": "stream",
     "text": [
      "+------------+\n",
      "|B_Weight_lbs|\n",
      "+------------+\n",
      "|       410.0|\n",
      "|       400.0|\n",
      "|       770.0|\n",
      "|       430.0|\n",
      "+------------+\n",
      "\n"
     ]
    }
   ],
   "source": [
    "query6.show()"
   ]
  },
  {
   "cell_type": "markdown",
   "metadata": {},
   "source": [
    "## Printing name of 2nd fattest fighter "
   ]
  },
  {
   "cell_type": "code",
   "execution_count": 39,
   "metadata": {},
   "outputs": [],
   "source": [
    "query7 = spark.sql(\"SELECT Blue, B_Weight_lbs FROM julio_query WHERE B_Weight_lbs In (SELECT MAX(B_Weight_lbs) FROM julio_query WHERE B_Weight_lbs Not In (SELECT MAX(B_Weight_lbs) FROM julio_query))\")"
   ]
  },
  {
   "cell_type": "code",
   "execution_count": 40,
   "metadata": {},
   "outputs": [
    {
     "name": "stdout",
     "output_type": "stream",
     "text": [
      "+----------+------------+\n",
      "|      Blue|B_Weight_lbs|\n",
      "+----------+------------+\n",
      "|Teila Tuli|       430.0|\n",
      "+----------+------------+\n",
      "\n"
     ]
    }
   ],
   "source": [
    "query7.show()"
   ]
  },
  {
   "cell_type": "code",
   "execution_count": 38,
   "metadata": {},
   "outputs": [],
   "source": []
  }
 ],
 "metadata": {
  "kernelspec": {
   "display_name": "Python 3",
   "language": "python",
   "name": "python3"
  },
  "language_info": {
   "codemirror_mode": {
    "name": "ipython",
    "version": 3
   },
   "file_extension": ".py",
   "mimetype": "text/x-python",
   "name": "python",
   "nbconvert_exporter": "python",
   "pygments_lexer": "ipython3",
   "version": "3.7.1"
  }
 },
 "nbformat": 4,
 "nbformat_minor": 2
}
